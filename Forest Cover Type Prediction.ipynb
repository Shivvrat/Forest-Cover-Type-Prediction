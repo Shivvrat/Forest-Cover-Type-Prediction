{
 "cells": [
  {
   "cell_type": "markdown",
   "metadata": {},
   "source": [
    "# Forest Cover Type Prediction"
   ]
  },
  {
   "cell_type": "markdown",
   "metadata": {},
   "source": [
    "## Importing the libraries used"
   ]
  },
  {
   "cell_type": "code",
   "execution_count": 14,
   "metadata": {},
   "outputs": [],
   "source": [
    "import numpy as np\n",
    "import pandas as pd"
   ]
  },
  {
   "cell_type": "markdown",
   "metadata": {},
   "source": [
    "## Getting the test and train data"
   ]
  },
  {
   "cell_type": "code",
   "execution_count": 19,
   "metadata": {},
   "outputs": [
    {
     "name": "stdout",
     "output_type": "stream",
     "text": [
      "(565892, 54)\n"
     ]
    }
   ],
   "source": [
    "train_data = pd.read_csv('train.csv', delimiter=',')\n",
    "test_data = pd.read_csv('test.csv', delimiter=',')\n",
    "id_is = test_data['Id'].tolist()\n",
    "train_data = train_data.drop(columns=['Id'])\n",
    "test_data = test_data.drop(columns=['Id'])\n",
    "print(test_data.shape)"
   ]
  },
  {
   "cell_type": "markdown",
   "metadata": {},
   "source": [
    "## Converting the pandas arrays into numpy arrays"
   ]
  },
  {
   "cell_type": "code",
   "execution_count": 16,
   "metadata": {},
   "outputs": [],
   "source": [
    "train = train_data.as_matrix()\n",
    "test = test_data.as_matrix()"
   ]
  },
  {
   "cell_type": "markdown",
   "metadata": {},
   "source": [
    "## Getting the arrays required for input and output"
   ]
  },
  {
   "cell_type": "code",
   "execution_count": 17,
   "metadata": {},
   "outputs": [],
   "source": [
    "X = train[:,:-1]\n",
    "Y = train[:,-1]"
   ]
  },
  {
   "cell_type": "markdown",
   "metadata": {},
   "source": [
    "# Using Different Models to calculate the accuracy"
   ]
  },
  {
   "cell_type": "markdown",
   "metadata": {},
   "source": [
    "## BernoulliNB"
   ]
  },
  {
   "cell_type": "code",
   "execution_count": 21,
   "metadata": {},
   "outputs": [
    {
     "name": "stdout",
     "output_type": "stream",
     "text": [
      "0.5991402116402117\n",
      "(565892,)\n"
     ]
    }
   ],
   "source": [
    "from sklearn.naive_bayes import BernoulliNB\n",
    "clf = BernoulliNB()\n",
    "clf.fit(X, Y)\n",
    "score = clf.score(X,Y)\n",
    "print(score)\n",
    "test_predict = clf.predict(test)\n",
    "output = np.column_stack((id_is, test_predict)).astype(int)\n",
    "np.savetxt(\"out.csv\", output.astype(int), delimiter=\",\", fmt='%d')"
   ]
  },
  {
   "cell_type": "markdown",
   "metadata": {},
   "source": [
    "## Decision Tree Classifier"
   ]
  },
  {
   "cell_type": "code",
   "execution_count": 22,
   "metadata": {},
   "outputs": [
    {
     "name": "stdout",
     "output_type": "stream",
     "text": [
      "1.0\n"
     ]
    }
   ],
   "source": [
    "from sklearn.tree import DecisionTreeClassifier\n",
    "clf = DecisionTreeClassifier()\n",
    "clf.fit(X, Y)\n",
    "score = clf.score(X,Y)\n",
    "print(score)\n",
    "test_predict = clf.predict(test)\n",
    "output = np.column_stack((id_is, test_predict)).astype(int)\n",
    "np.savetxt(\"out.csv\", output.astype(int), delimiter=\",\", fmt='%d')"
   ]
  },
  {
   "cell_type": "markdown",
   "metadata": {},
   "source": [
    "## Extra Tree Classifier"
   ]
  },
  {
   "cell_type": "code",
   "execution_count": 23,
   "metadata": {},
   "outputs": [
    {
     "name": "stdout",
     "output_type": "stream",
     "text": [
      "1.0\n"
     ]
    }
   ],
   "source": [
    "from sklearn.tree import ExtraTreeClassifier\n",
    "clf = ExtraTreeClassifier()\n",
    "clf.fit(X, Y)\n",
    "score = clf.score(X,Y)\n",
    "print(score)\n",
    "test_predict = clf.predict(test)\n",
    "output = np.column_stack((id_is, test_predict)).astype(int)\n",
    "np.savetxt(\"out.csv\", output.astype(int), delimiter=\",\", fmt='%d')"
   ]
  },
  {
   "cell_type": "markdown",
   "metadata": {},
   "source": [
    "## Extra Trees Classifier"
   ]
  },
  {
   "cell_type": "code",
   "execution_count": 24,
   "metadata": {},
   "outputs": [
    {
     "name": "stdout",
     "output_type": "stream",
     "text": [
      "1.0\n"
     ]
    }
   ],
   "source": [
    "from sklearn.ensemble import ExtraTreesClassifier\n",
    "clf = ExtraTreesClassifier()\n",
    "clf.fit(X, Y)\n",
    "score = clf.score(X,Y)\n",
    "print(score)\n",
    "test_predict = clf.predict(test)\n",
    "output = np.column_stack((id_is, test_predict)).astype(int)\n",
    "np.savetxt(\"out.csv\", output.astype(int), delimiter=\",\", fmt='%d')"
   ]
  },
  {
   "cell_type": "markdown",
   "metadata": {},
   "source": [
    "## GaussianNB"
   ]
  },
  {
   "cell_type": "code",
   "execution_count": 25,
   "metadata": {},
   "outputs": [
    {
     "name": "stdout",
     "output_type": "stream",
     "text": [
      "0.5951719576719576\n"
     ]
    }
   ],
   "source": [
    "from sklearn.naive_bayes import GaussianNB\n",
    "clf = GaussianNB()\n",
    "clf.fit(X, Y)\n",
    "score = clf.score(X,Y)\n",
    "print(score)\n",
    "test_predict = clf.predict(test)\n",
    "output = np.column_stack((id_is, test_predict)).astype(int)\n",
    "np.savetxt(\"out.csv\", output.astype(int), delimiter=\",\", fmt='%d')"
   ]
  },
  {
   "cell_type": "markdown",
   "metadata": {},
   "source": [
    "## K Neighbors Classifier"
   ]
  },
  {
   "cell_type": "code",
   "execution_count": 26,
   "metadata": {},
   "outputs": [
    {
     "name": "stdout",
     "output_type": "stream",
     "text": [
      "0.8869708994708995\n"
     ]
    }
   ],
   "source": [
    "from sklearn.neighbors import KNeighborsClassifier\n",
    "clf = KNeighborsClassifier()\n",
    "clf.fit(X, Y)\n",
    "score = clf.score(X,Y)\n",
    "print(score)\n",
    "test_predict = clf.predict(test)\n",
    "output = np.column_stack((id_is, test_predict)).astype(int)\n",
    "np.savetxt(\"out.csv\", output.astype(int), delimiter=\",\", fmt='%d')"
   ]
  },
  {
   "cell_type": "markdown",
   "metadata": {},
   "source": [
    "## Label Propagation Classifier"
   ]
  },
  {
   "cell_type": "code",
   "execution_count": 30,
   "metadata": {},
   "outputs": [
    {
     "name": "stdout",
     "output_type": "stream",
     "text": [
      "0.8869708994708995\n"
     ]
    }
   ],
   "source": [
    "from sklearn.semi_supervised import LabelPropagation\n",
    "clf = KNeighborsClassifier()\n",
    "clf.fit(X, Y)\n",
    "score = clf.score(X,Y)\n",
    "print(score)\n",
    "test_predict = clf.predict(test)\n",
    "output = np.column_stack((id_is, test_predict)).astype(int)\n",
    "np.savetxt(\"out.csv\", output.astype(int), delimiter=\",\", fmt='%d')"
   ]
  },
  {
   "cell_type": "markdown",
   "metadata": {},
   "source": [
    "## Linear SVC"
   ]
  },
  {
   "cell_type": "code",
   "execution_count": 29,
   "metadata": {},
   "outputs": [
    {
     "name": "stdout",
     "output_type": "stream",
     "text": [
      "0.3507275132275132\n"
     ]
    }
   ],
   "source": [
    "from sklearn.svm import LinearSVC\n",
    "clf = LinearSVC()\n",
    "clf.fit(X, Y)\n",
    "score = clf.score(X,Y)\n",
    "print(score)\n",
    "test_predict = clf.predict(test)\n",
    "output = np.column_stack((id_is, test_predict)).astype(int)\n",
    "np.savetxt(\"out.csv\", output.astype(int), delimiter=\",\", fmt='%d')"
   ]
  },
  {
   "cell_type": "markdown",
   "metadata": {},
   "source": [
    "## MLP Classifier"
   ]
  },
  {
   "cell_type": "code",
   "execution_count": 31,
   "metadata": {},
   "outputs": [
    {
     "name": "stdout",
     "output_type": "stream",
     "text": [
      "0.5851851851851851\n"
     ]
    }
   ],
   "source": [
    "from sklearn.neural_network import MLPClassifier\n",
    "clf = MLPClassifier()\n",
    "clf.fit(X, Y)\n",
    "score = clf.score(X,Y)\n",
    "print(score)\n",
    "test_predict = clf.predict(test)\n",
    "output = np.column_stack((id_is, test_predict)).astype(int)\n",
    "np.savetxt(\"out.csv\", output.astype(int), delimiter=\",\", fmt='%d')"
   ]
  },
  {
   "cell_type": "markdown",
   "metadata": {},
   "source": [
    "## RidgeClassifier"
   ]
  },
  {
   "cell_type": "code",
   "execution_count": 34,
   "metadata": {},
   "outputs": [
    {
     "name": "stdout",
     "output_type": "stream",
     "text": [
      "0.6593915343915344\n"
     ]
    }
   ],
   "source": [
    "from sklearn.linear_model import RidgeClassifier\n",
    "clf = MLPClassifier()\n",
    "clf.fit(X, Y)\n",
    "score = clf.score(X,Y)\n",
    "print(score)\n",
    "test_predict = clf.predict(test)\n",
    "output = np.column_stack((id_is, test_predict)).astype(int)\n",
    "np.savetxt(\"out.csv\", output.astype(int), delimiter=\",\", fmt='%d')"
   ]
  },
  {
   "cell_type": "code",
   "execution_count": null,
   "metadata": {},
   "outputs": [],
   "source": []
  }
 ],
 "metadata": {
  "kernelspec": {
   "display_name": "Python 3",
   "language": "python",
   "name": "python3"
  },
  "language_info": {
   "codemirror_mode": {
    "name": "ipython",
    "version": 3
   },
   "file_extension": ".py",
   "mimetype": "text/x-python",
   "name": "python",
   "nbconvert_exporter": "python",
   "pygments_lexer": "ipython3",
   "version": "3.6.4"
  }
 },
 "nbformat": 4,
 "nbformat_minor": 2
}
